{
  "nbformat": 4,
  "nbformat_minor": 0,
  "metadata": {
    "colab": {
      "provenance": [],
      "authorship_tag": "ABX9TyNlwm2vLUg4I6nXaIjs9PvA",
      "include_colab_link": true
    },
    "kernelspec": {
      "name": "python3",
      "display_name": "Python 3"
    },
    "language_info": {
      "name": "python"
    }
  },
  "cells": [
    {
      "cell_type": "markdown",
      "metadata": {
        "id": "view-in-github",
        "colab_type": "text"
      },
      "source": [
        "<a href=\"https://colab.research.google.com/github/Bhagat-Atul/Document-Classification/blob/main/Model_Evaluation_Final.ipynb\" target=\"_parent\"><img src=\"https://colab.research.google.com/assets/colab-badge.svg\" alt=\"Open In Colab\"/></a>"
      ]
    },
    {
      "cell_type": "code",
      "execution_count": null,
      "metadata": {
        "id": "4A3jvvn5_70J"
      },
      "outputs": [],
      "source": [
        "import os\n",
        "\n",
        "from google.colab import drive\n",
        "drive.mount('/content/drive')\n",
        "\n",
        "\n",
        "model_directory_path = \"/content/drive/MyDrive/IndoML/model\""
      ]
    },
    {
      "cell_type": "code",
      "source": [
        "import tensorflow as tf\n",
        "import matplotlib.pyplot as plt\n",
        "from tensorflow.keras.models import load_model\n",
        "\n",
        "try:\n",
        "  os.mkdir(\"./Figures\")\n",
        "except:\n",
        "  print(\" - - \")\n",
        "\n",
        "for m_name in os.listdir(model_directory_path):\n",
        "  print(\"Currently working on model - \" + m_name)\n",
        "  print(\"\")\n",
        "    \n",
        "  loaded_model = load_model(os.path.join(model_directory_path, m_name))\n",
        "\n",
        "  # Optimizer SGD\n",
        "  sgd = tf.keras.optimizers.SGD(learning_rate=1e-3)\n",
        "\n",
        "  loaded_model.compile(loss=tf.losses.sparse_categorical_crossentropy, optimizer=sgd,  metrics=['accuracy'])\n",
        "\n",
        "  fig = plt.figure()\n",
        "  plt.title(m_name)\n",
        "  plt.plot(loaded_model.history, color='teal', label='Training_loss')\n",
        "  plt.plot(loaded_model.history['val_loss'], color='orange', label='val_loss')\n",
        "  fig.suptitle('Loss', fontsize=20)\n",
        "  plt.legend(loc=\"upper left\")\n",
        "\n",
        "\n",
        "\n",
        "  figpath = model_directory_path + \"/Figures/\"\n",
        "  plt.savefig(os.path.join(figpath, m_name))\n",
        "\n",
        "# This would save the figures in the current instance of the colab,\n",
        "# add code to move this to google drive once the summary is generated.\n",
        "\n",
        "  plt.show()\n",
        "  break\n",
        "\n",
        "  \n"
      ],
      "metadata": {
        "id": "i3oYsGKZC4tx"
      },
      "execution_count": null,
      "outputs": []
    },
    {
      "cell_type": "markdown",
      "source": [
        "Plotting Performance (Loaded Models)"
      ],
      "metadata": {
        "id": "Kx-Hk5U3BV0h"
      }
    },
    {
      "cell_type": "code",
      "source": [],
      "metadata": {
        "id": "aJQCLqgoBZfY"
      },
      "execution_count": null,
      "outputs": []
    }
  ]
}
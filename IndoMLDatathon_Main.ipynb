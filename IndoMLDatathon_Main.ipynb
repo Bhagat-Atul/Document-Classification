{
  "cells": [
    {
      "cell_type": "markdown",
      "metadata": {
        "id": "view-in-github",
        "colab_type": "text"
      },
      "source": [
        "<a href=\"https://colab.research.google.com/github/Bhagat-Atul/Document-Classification/blob/main/IndoMLDatathon_Main.ipynb\" target=\"_parent\"><img src=\"https://colab.research.google.com/assets/colab-badge.svg\" alt=\"Open In Colab\"/></a>"
      ]
    },
    {
      "cell_type": "markdown",
      "metadata": {
        "id": "ucb_8qL86sS-"
      },
      "source": [
        "Mount and Install the Google Drive where all the files are placed!\n",
        "\n",
        "Make sure the json from the kagggle is downloaded and is placed at the drive location"
      ],
      "id": "ucb_8qL86sS-"
    },
    {
      "cell_type": "code",
      "execution_count": null,
      "metadata": {
        "id": "6FrT-mxM5em9"
      },
      "outputs": [],
      "source": [
        "from google.colab import drive\n",
        "drive.mount('/content/drive')\n",
        "\n",
        "! pip install kaggle\n",
        "! mkdir ~/.kaggle\n",
        "! cp /content/drive/MyDrive/IndoML/kaggle.json ~/.kaggle/\n",
        "! chmod 600 ~/.kaggle/kaggle.json\n",
        "\n",
        "!kaggle competitions download -c datathonindoml-2022"
      ],
      "id": "6FrT-mxM5em9"
    },
    {
      "cell_type": "code",
      "execution_count": null,
      "metadata": {
        "id": "4mktkLDE6dK5"
      },
      "outputs": [],
      "source": [
        "!unzip /content/datathonindoml-2022.zip "
      ],
      "id": "4mktkLDE6dK5"
    },
    {
      "cell_type": "code",
      "execution_count": 3,
      "metadata": {
        "id": "5O78jc-reJ6U"
      },
      "outputs": [],
      "source": [
        "import pandas as pd\n",
        "import os \n",
        "labels = pd.read_csv(\"/content/train_labels.csv\")\n",
        "os.mkdir(\"./Data\")\n"
      ],
      "id": "5O78jc-reJ6U"
    },
    {
      "cell_type": "code",
      "execution_count": null,
      "metadata": {
        "id": "f4st3uRc7MPk"
      },
      "outputs": [],
      "source": [
        "for i in range(0,16):\n",
        "    os.mkdir(\"/content/Data/{}\".format(i), 0o666)"
      ],
      "id": "f4st3uRc7MPk"
    },
    {
      "cell_type": "code",
      "execution_count": null,
      "metadata": {
        "id": "hIPpWBpLfRIb"
      },
      "outputs": [],
      "source": [
        "import shutil\n",
        "for row in labels.iterrows():\n",
        "      try:\n",
        "        # print(row[1][1])\n",
        "        shutil.copyfile(f\"/content/train/train/{row[1][0]}.tif\", f\"/content/Data/{(row[1][1])}/{row[1][0]}.tif\")\n",
        "        # break\n",
        "      except:\n",
        "        print(\"error{}\".format(row[1][0]))\n",
        "        continue"
      ],
      "id": "hIPpWBpLfRIb"
    },
    {
      "cell_type": "code",
      "execution_count": null,
      "metadata": {
        "id": "e4dbceb5"
      },
      "outputs": [],
      "source": [
        "import tensorflow as tf\n",
        "import os \n",
        "import numpy as np\n",
        "from matplotlib import pyplot as plt\n"
      ],
      "id": "e4dbceb5"
    },
    {
      "cell_type": "markdown",
      "metadata": {
        "id": "d3e774ef"
      },
      "source": [
        "## Load Data"
      ],
      "id": "d3e774ef"
    },
    {
      "cell_type": "code",
      "execution_count": null,
      "metadata": {
        "colab": {
          "base_uri": "https://localhost:8080/"
        },
        "id": "7c1176f5",
        "outputId": "ee39942c-553f-49c2-d117-e6953c7c8779"
      },
      "outputs": [
        {
          "name": "stdout",
          "output_type": "stream",
          "text": [
            "Found 12807 images belonging to 16 classes.\n",
            "Found 3193 images belonging to 16 classes.\n"
          ]
        }
      ],
      "source": [
        "#Image Size\n",
        "i_s = 256\n",
        "\n",
        "train_datagen = tf.keras.preprocessing.image.ImageDataGenerator(rescale = 1./255,\n",
        "                                  shear_range = 0.0,\n",
        "                                  zoom_range = [0,2],\n",
        "                                  horizontal_flip = True,\n",
        "                                  vertical_flip=True,\n",
        "                                  rotation_range=5,\n",
        "                                  fill_mode='nearest',\n",
        "                                  width_shift_range=0.2,\n",
        "                                  height_shift_range=0.2,\n",
        "                                  validation_split=0.2  \n",
        "                                  )\n",
        "\n",
        "clas = ['0', '1', '2', '3', '4', '5', '6', '7', '8', '9', '10', '11', '12', '13', '14', '15']\n",
        "\n",
        "train = train_datagen.flow_from_directory('/content/Data', batch_size=32, target_size=(i_s,i_s),\n",
        "                                         color_mode=\"grayscale\",\n",
        "                                         classes = clas,\n",
        "                                         class_mode = 'sparse',\n",
        "                                         shuffle = True,\n",
        "                                         subset='training')\n",
        "val = train_datagen.flow_from_directory('/content/Data', target_size=(i_s,i_s),\n",
        "                                         color_mode=\"grayscale\",\n",
        "                                         classes = clas,\n",
        "                                         class_mode = 'sparse',\n",
        "                                         shuffle = True,\n",
        "                                         subset='validation')\n",
        "# test = train_datagen.flow_from_directory('./ANN/data/testlabeled', target_size=(i_s,i_s),\n",
        "#                                          color_mode=\"grayscale\",\n",
        "#                                          classes = clas,\n",
        "#                                          class_mode = 'sparse',\n",
        "#                                          shuffle = True,\n",
        "#                                          subset='training')\n",
        "\n",
        "\n",
        "\n",
        "\n"
      ],
      "id": "7c1176f5"
    },
    {
      "cell_type": "markdown",
      "metadata": {
        "id": "0e9478bd"
      },
      "source": [
        "### Model Definition "
      ],
      "id": "0e9478bd"
    },
    {
      "cell_type": "code",
      "execution_count": null,
      "metadata": {
        "id": "c0477448"
      },
      "outputs": [],
      "source": [
        "from tensorflow.keras.models import Sequential\n",
        "from tensorflow.keras.layers import Conv2D, MaxPooling2D, Dense, Flatten, Dropout, Layer, AveragePooling2D, Input, Add, Activation, ZeroPadding2D, BatchNormalization\n",
        "from tensorflow.keras import layers\n"
      ],
      "id": "c0477448"
    },
    {
      "cell_type": "markdown",
      "metadata": {
        "id": "hfXQr8aYvx4e"
      },
      "source": [
        "### Basic CNN - 7 Convolution Layers, With MaxPooling, and Dropout - 3 Fully Connected Layers"
      ],
      "id": "hfXQr8aYvx4e"
    },
    {
      "cell_type": "code",
      "execution_count": null,
      "metadata": {
        "id": "92880f05"
      },
      "outputs": [],
      "source": [
        "\n",
        "model = Sequential()\n",
        "\n",
        "model.add(Conv2D(96, (11, 11), 4, \n",
        "                 activation=\"relu\",\n",
        "                 input_shape=(i_s,i_s,1)))\n",
        "\n",
        "model.add(MaxPooling2D(pool_size=3, strides=2)) \n",
        "\n",
        "model.add(Conv2D(256, (5,5), 1, \n",
        "                 activation=\"relu\",\n",
        "                 padding='same', \n",
        "                 input_shape=(i_s,i_s,1)))\n",
        "\n",
        "model.add(MaxPooling2D(pool_size=3, strides=2)) \n",
        "\n",
        "model.add(Conv2D(384, (3,3), 1, \n",
        "                 activation=\"relu\",\n",
        "                 padding='same', \n",
        "                 input_shape=(i_s,i_s,1)))\n",
        "\n",
        "model.add(Conv2D(384, (3,3), 1, \n",
        "                 activation=\"relu\",\n",
        "                 padding='same', \n",
        "                 input_shape=(i_s,i_s,1)))\n",
        "\n",
        "model.add(layers.Dropout(rate=0.5))\n",
        "\n",
        "model.add(Conv2D(512, (5,5), 1, \n",
        "                 activation=\"relu\",\n",
        "                 padding='same', \n",
        "                 input_shape=(i_s,i_s,1)))\n",
        "\n",
        "model.add(MaxPooling2D(pool_size=3, strides=2)) \n",
        "\n",
        "model.add(Conv2D(512, (3,3), 1, \n",
        "                 activation=\"relu\",\n",
        "                 padding='same', \n",
        "                 input_shape=(i_s,i_s,1)))\n",
        "\n",
        "# model.add(MaxPooling2D(pool_size=3, strides=1))\n",
        "\n",
        "model.add(Conv2D(256, (3,3), 1, \n",
        "                 activation=\"relu\",\n",
        "                 padding='same', \n",
        "                 input_shape=(i_s,i_s,1)))\n",
        "\n",
        "model.add(MaxPooling2D(pool_size=2, strides=2)) \n",
        "\n",
        "model.add(layers.Dropout(rate=0.5))\n",
        "\n",
        "model.add(Flatten())\n",
        "\n",
        "model.add(Dense(4096, activation=\"relu\"))\n",
        "\n",
        "model.add(layers.Dropout(rate=0.5))\n",
        "\n",
        "model.add(Dense(2048, activation=\"relu\"))\n",
        "\n",
        "model.add(Dense(16, activation='softmax'))\n",
        "\n",
        "# lr = 0.002\n",
        "# SGD(learning_rate=lr, momentum=0.9, decay=0,nesterov=False\n",
        "\n",
        "adam = tf.keras.optimizers.Adam(learning_rate=.0001)\n",
        "\n",
        "model.compile(loss=tf.losses.sparse_categorical_crossentropy, optimizer=adam,  metrics=['accuracy'])\n",
        "\n",
        "model.summary()\n"
      ],
      "id": "92880f05"
    },
    {
      "cell_type": "markdown",
      "metadata": {
        "id": "HeLUqa1vvnuy"
      },
      "source": [
        "### VGC19 Architecture Block"
      ],
      "id": "HeLUqa1vvnuy"
    },
    {
      "cell_type": "code",
      "execution_count": null,
      "metadata": {
        "id": "rCgteiIbvmK1"
      },
      "outputs": [],
      "source": [
        "model_name = \"VGC19\"\n",
        "\n",
        "model = Sequential()\n",
        "\n",
        "model.add(Conv2D(64, (3, 3), 1,\n",
        "                 activation=\"relu\",\n",
        "                 input_shape=(i_s,i_s,1)))\n",
        "model.add(Conv2D(64, (3, 3), 1,\n",
        "                 activation=\"relu\",\n",
        "                 input_shape=(i_s,i_s,1)))\n",
        "\n",
        "model.add(MaxPooling2D(pool_size=2, strides=2)) \n",
        "\n",
        "\n",
        "model.add(Conv2D(128, (3, 3), 1,\n",
        "                 activation=\"relu\",\n",
        "                 input_shape=(i_s,i_s,1)))\n",
        "model.add(Conv2D(128, (3, 3), 1,\n",
        "                 activation=\"relu\",\n",
        "                 input_shape=(i_s,i_s,1)))\n",
        "model.add(MaxPooling2D(pool_size=2, strides=2)) \n",
        "\n",
        "\n",
        "model.add(Conv2D(256, (3, 3), 1,\n",
        "                 activation=\"relu\",\n",
        "                 input_shape=(i_s,i_s,1),\n",
        "                 padding=\"same\"))\n",
        "model.add(Conv2D(256, (3, 3), 1,\n",
        "                 activation=\"relu\",\n",
        "                 input_shape=(i_s,i_s,1),\n",
        "                 padding=\"same\"))\n",
        "model.add(Conv2D(256, (3, 3), 1,\n",
        "                 activation=\"relu\",\n",
        "                 input_shape=(i_s,i_s,1),\n",
        "                 padding=\"same\"))\n",
        "model.add(Conv2D(256, (3, 3), 1,\n",
        "                 activation=\"relu\",\n",
        "                 input_shape=(i_s,i_s,1),\n",
        "                 padding=\"same\"))\n",
        "model.add(MaxPooling2D(pool_size=2, strides=2)) \n",
        "\n",
        "\n",
        "model.add(Conv2D(512, (3, 3), 1,\n",
        "                 activation=\"relu\",\n",
        "                 input_shape=(i_s,i_s,1),\n",
        "                 padding=\"same\"))\n",
        "model.add(Conv2D(512, (3, 3), 1,\n",
        "                 activation=\"relu\",\n",
        "                 input_shape=(i_s,i_s,1),\n",
        "                 padding=\"same\"))\n",
        "model.add(Conv2D(512, (3, 3), 1,\n",
        "                 activation=\"relu\",\n",
        "                 input_shape=(i_s,i_s,1),\n",
        "                 padding=\"same\"))\n",
        "model.add(Conv2D(512, (3, 3), 1,\n",
        "                 activation=\"relu\",\n",
        "                 input_shape=(i_s,i_s,1),\n",
        "                 padding=\"same\"))\n",
        "model.add(MaxPooling2D(pool_size=2, strides=2)) \n",
        "\n",
        "model.add(Conv2D(512, (3, 3), 1,\n",
        "                 activation=\"relu\",\n",
        "                 input_shape=(i_s,i_s,1),\n",
        "                 padding=\"same\"))\n",
        "model.add(Conv2D(512, (3, 3), 1,\n",
        "                 activation=\"relu\",\n",
        "                 input_shape=(i_s,i_s,1),\n",
        "                 padding=\"same\"))\n",
        "model.add(Conv2D(512, (3, 3), 1,\n",
        "                 activation=\"relu\",\n",
        "                 input_shape=(i_s,i_s,1),\n",
        "                 padding=\"same\"))\n",
        "model.add(Conv2D(512, (3, 3), 1,\n",
        "                 activation=\"relu\",\n",
        "                 input_shape=(i_s,i_s,1),\n",
        "                 padding=\"same\"))\n",
        "model.add(MaxPooling2D(pool_size=2, strides=2)) \n",
        "\n",
        "model.add(Flatten())\n",
        "\n",
        "model.add(Dense(4096, activation=\"relu\"))\n",
        "model.add(layers.Dropout(rate=0.2))\n",
        "\n",
        "model.add(Dense(4096, activation=\"relu\"))\n",
        "model.add(layers.Dropout(rate=0.2))\n",
        "\n",
        "model.add(Dense(16, activation='softmax'))\n",
        "\n",
        "# lr = 0.002\n",
        "# SGD(learning_rate=lr, momentum=0.9, decay=0,nesterov=False\n",
        "\n",
        "adam = tf.keras.optimizers.Adam(learning_rate=.00001)\n",
        "\n",
        "model.compile(loss=tf.losses.sparse_categorical_crossentropy, optimizer=adam,  metrics=['accuracy'])\n",
        "\n",
        "model.summary()\n"
      ],
      "id": "rCgteiIbvmK1"
    },
    {
      "cell_type": "markdown",
      "metadata": {
        "id": "66CTdsJtw971"
      },
      "source": [
        "### ResNet Architecture"
      ],
      "id": "66CTdsJtw971"
    },
    {
      "cell_type": "code",
      "execution_count": null,
      "metadata": {
        "id": "aUANcFOJ0y_O"
      },
      "outputs": [],
      "source": [
        "model_name = \"Resnet34WithImageSize \" + str(i_s)\n",
        "\n",
        "\n",
        "def identity_block(x, filter):\n",
        "    # copy tensor to variable called x_skip\n",
        "    x_input = x\n",
        "    # Layer 1\n",
        "    x = tf.keras.layers.Conv2D(filter, (3,3), padding = 'same')(x)\n",
        "    x = tf.keras.layers.BatchNormalization(axis=1)(x)\n",
        "    x = tf.keras.layers.Activation('relu')(x)\n",
        "    # Layer 2\n",
        "    x = tf.keras.layers.Conv2D(filter, (3,3), padding = 'same')(x)\n",
        "    x = tf.keras.layers.BatchNormalization(axis=1)(x)\n",
        "    # Add Residue\n",
        "    x = tf.keras.layers.Add()([x, x_input])     \n",
        "    x = tf.keras.layers.Activation('relu')(x)\n",
        "    return x\n",
        "\n",
        "  \n",
        "def convolutional_block(x, filter):\n",
        "    # copy tensor to variable called x_skip\n",
        "    x_input = x\n",
        "    # Layer 1\n",
        "    x = tf.keras.layers.Conv2D(filter, (3,3), padding = 'same', strides = (2,2))(x)\n",
        "    x = tf.keras.layers.BatchNormalization(axis=1)(x)\n",
        "    x = tf.keras.layers.Activation('relu')(x)\n",
        "    # Layer 2\n",
        "    x = tf.keras.layers.Conv2D(filter, (3,3), padding = 'same')(x)\n",
        "    x = tf.keras.layers.BatchNormalization(axis=1)(x)\n",
        "    # Processing Residue with conv(1,1)\n",
        "    x_input = tf.keras.layers.Conv2D(filter, (1,1), strides = (2,2))(x_input)\n",
        "    # Add Residue\n",
        "    x = tf.keras.layers.Add()([x, x_input])     \n",
        "    x = tf.keras.layers.Activation('relu')(x)\n",
        "    return x\n",
        "\n",
        "def ResNet34(shape = (i_s, i_s, 1), classes = 16):\n",
        "    # Step 1 (Setup Input Layer)\n",
        "    x_input = tf.keras.layers.Input(shape)\n",
        "    x = tf.keras.layers.ZeroPadding2D((3, 3))(x_input)\n",
        "    # Step 2 (Initial Conv layer along with maxPool)\n",
        "    x = tf.keras.layers.Conv2D(64, kernel_size=7, strides=2, padding='same')(x)\n",
        "    x = tf.keras.layers.BatchNormalization()(x)\n",
        "    x = tf.keras.layers.Activation('relu')(x)\n",
        "    x = tf.keras.layers.MaxPool2D(pool_size=3, strides=2, padding='same')(x)\n",
        "    # Define size of sub-blocks and initial filter size\n",
        "    block_layers = [3, 4, 6, 3]\n",
        "    filter_size = 64\n",
        "    # Step 3 Add the Resnet Blocks\n",
        "    for i in range(4):\n",
        "        if i == 0:\n",
        "            # For sub-block 1 Residual/Convolutional block not needed\n",
        "            for j in range(block_layers[i]):\n",
        "                x = identity_block(x, filter_size)\n",
        "        else:\n",
        "            # One Residual/Convolutional Block followed by Identity blocks\n",
        "            # The filter size will go on increasing by a factor of 2\n",
        "            filter_size = filter_size*2\n",
        "            x = convolutional_block(x, filter_size)\n",
        "            for j in range(block_layers[i] - 1):\n",
        "                x = identity_block(x, filter_size)\n",
        "    # Step 4 End Dense Network\n",
        "    x = tf.keras.layers.AveragePooling2D((2,2), padding = 'same')(x)\n",
        "    x = tf.keras.layers.Flatten()(x)\n",
        "    x = tf.keras.layers.Dense(4096, activation = 'relu')(x)\n",
        "    x = tf.keras.layers.Dense(4096, activation = 'relu')(x)\n",
        "    x = tf.keras.layers.Dense(1000, activation = 'relu')(x)\n",
        "    x = tf.keras.layers.Dense(classes, activation = 'softmax')(x)\n",
        "    model = tf.keras.models.Model(inputs = x_input, outputs = x, name = \"ResNet34\")\n",
        "    return model"
      ],
      "id": "aUANcFOJ0y_O"
    },
    {
      "cell_type": "code",
      "execution_count": null,
      "metadata": {
        "id": "vdSa_pof3HMz"
      },
      "outputs": [],
      "source": [
        "model = ResNet34()\n",
        "model.summary()"
      ],
      "id": "vdSa_pof3HMz"
    },
    {
      "cell_type": "markdown",
      "metadata": {
        "id": "0ec6ebd9"
      },
      "source": [
        "## TRAINING"
      ],
      "id": "0ec6ebd9"
    },
    {
      "cell_type": "code",
      "execution_count": null,
      "metadata": {
        "id": "8b0fd434"
      },
      "outputs": [],
      "source": [
        "logdir='TrainingLogs - ' + str(model_name)\n",
        "import random\n",
        "from tensorflow.keras.callbacks import ModelCheckpoint\n",
        "model_cp = ModelCheckpoint(filepath=f\"/content/drive/MyDrive/IndoML/model/{model_name}.h5\", \n",
        "                           monitor=\"val_loss\", \n",
        "                           save_best_only=True,\n",
        "                           verbose=1)"
      ],
      "id": "8b0fd434"
    },
    {
      "cell_type": "code",
      "execution_count": null,
      "metadata": {
        "id": "284b3eab"
      },
      "outputs": [],
      "source": [
        "tensorboard_callback = [tf.keras.callbacks.TensorBoard(log_dir=logdir), \n",
        "                        tf.keras.callbacks.EarlyStopping(patience=10, monitor='val_loss'), \n",
        "                        model_cp\n",
        "                        ]"
      ],
      "id": "284b3eab"
    },
    {
      "cell_type": "code",
      "execution_count": null,
      "metadata": {
        "colab": {
          "background_save": true
        },
        "id": "78be55d1"
      },
      "outputs": [],
      "source": [
        "model.compile(tf.keras.optimizers.SGD(learning_rate=1e-3), \n",
        "              tf.keras.losses.sparse_categorical_crossentropy,  \n",
        "              metrics=[\"accuracy\", \"mse\"])\n",
        "\n",
        "hist = model.fit(train,\n",
        "                 epochs = 100,\n",
        "                 validation_data = val,\n",
        "                 shuffle=True,\n",
        "                 callbacks = tensorboard_callback)\n",
        "\n"
      ],
      "id": "78be55d1"
    },
    {
      "cell_type": "markdown",
      "metadata": {
        "id": "8336RySV-aBk"
      },
      "source": [
        "### Evaluate Loaded Models"
      ],
      "id": "8336RySV-aBk"
    },
    {
      "cell_type": "code",
      "execution_count": null,
      "metadata": {
        "id": "cc19dba0"
      },
      "outputs": [],
      "source": [
        "import tensorflow\n",
        "from tensorflow.keras.models import load_model\n",
        "loaded_model = load_model(os.path.join('models', 'Bestmodel.h5'))\n",
        "adam = tensorflow.keras.optimizers.Adam(learning_rate=1e-6)\n",
        "sgd = tensorflow.keras.optimizers.SGD(learning_rate=1e-4)\n",
        "loaded_model.compile(loss=tf.losses.sparse_categorical_crossentropy, optimizer=sgd,  metrics=['accuracy'])\n"
      ],
      "id": "cc19dba0"
    },
    {
      "cell_type": "code",
      "execution_count": null,
      "metadata": {
        "id": "54c77bce"
      },
      "outputs": [],
      "source": [
        "hist = loaded_model.fit(train,\n",
        "                        epochs = 160,\n",
        "                        validation_data = val,\n",
        "                        shuffle=True,\n",
        "                        callbacks=[tensorboard_callback])\n"
      ],
      "id": "54c77bce"
    },
    {
      "cell_type": "markdown",
      "metadata": {
        "id": "739bbacd"
      },
      "source": [
        "## PLOT Performance"
      ],
      "id": "739bbacd"
    },
    {
      "cell_type": "code",
      "execution_count": null,
      "metadata": {
        "colab": {
          "background_save": true
        },
        "id": "109d1a2c"
      },
      "outputs": [],
      "source": [
        "fig = plt.figure()\n",
        "plt.plot(hist.history['loss'], color='teal', label='loss')\n",
        "plt.plot(hist.history['val_loss'], color='orange', label='val_loss')\n",
        "fig.suptitle('Loss', fontsize=20)\n",
        "plt.legend(loc=\"upper left\")\n",
        "plt.show()"
      ],
      "id": "109d1a2c"
    },
    {
      "cell_type": "code",
      "execution_count": null,
      "metadata": {
        "colab": {
          "background_save": true
        },
        "id": "32dc2c11"
      },
      "outputs": [],
      "source": [
        "fig = plt.figure()\n",
        "plt.plot(hist.history['accuracy'], color='teal', label='accuracy')\n",
        "plt.plot(hist.history['val_accuracy'], color='orange', label='val_accuracy')\n",
        "fig.suptitle('Accuracy', fontsize=20)\n",
        "plt.legend(loc=\"upper left\")\n",
        "plt.show()"
      ],
      "id": "32dc2c11"
    },
    {
      "cell_type": "markdown",
      "metadata": {
        "id": "3300c74b"
      },
      "source": [
        "## Evaluate"
      ],
      "id": "3300c74b"
    },
    {
      "cell_type": "code",
      "execution_count": null,
      "metadata": {
        "id": "3a4adf28"
      },
      "outputs": [],
      "source": [
        "from tensorflow.keras.metrics import Precision, Recall, SparseCategoricalAccuracy\n"
      ],
      "id": "3a4adf28"
    },
    {
      "cell_type": "code",
      "execution_count": null,
      "metadata": {
        "id": "0ed7c39a"
      },
      "outputs": [],
      "source": [
        "model.evaluate(test)"
      ],
      "id": "0ed7c39a"
    },
    {
      "cell_type": "markdown",
      "metadata": {
        "id": "66ba5e43"
      },
      "source": [
        "## Saving the Model\n"
      ],
      "id": "66ba5e43"
    },
    {
      "cell_type": "code",
      "execution_count": null,
      "metadata": {
        "id": "a9dfda41"
      },
      "outputs": [],
      "source": [
        "from tensorflow.keras.models import load_model\n"
      ],
      "id": "a9dfda41"
    },
    {
      "cell_type": "code",
      "execution_count": null,
      "metadata": {
        "id": "4d8ff0b6"
      },
      "outputs": [],
      "source": [
        "model.save(os.path.join('models','CNN_final_Model_42%.h5'))"
      ],
      "id": "4d8ff0b6"
    },
    {
      "cell_type": "code",
      "execution_count": null,
      "metadata": {
        "id": "ef9cdeb4"
      },
      "outputs": [],
      "source": [
        "new_model = load_model(os.path.join('models','documentclassifier_v4.1_3x3Filter(128x128).h5'))\n"
      ],
      "id": "ef9cdeb4"
    },
    {
      "cell_type": "markdown",
      "metadata": {
        "id": "0643b62c"
      },
      "source": [
        "## Testing Model"
      ],
      "id": "0643b62c"
    },
    {
      "cell_type": "code",
      "execution_count": null,
      "metadata": {
        "id": "19671e07"
      },
      "outputs": [],
      "source": [
        "import cv2\n",
        "img = cv2.imread('./data/val_jpeg/17865.jpeg')\n",
        "plt.imshow(img)\n",
        "plt.show()\n"
      ],
      "id": "19671e07"
    },
    {
      "cell_type": "code",
      "execution_count": null,
      "metadata": {
        "id": "277fd904"
      },
      "outputs": [],
      "source": [
        "resize = tf.image.resize(img, (i_s,i_s))\n",
        "gray_image = tf.image.rgb_to_grayscale(resize, (i_s,i_s))\n",
        "plt.imshow(gray_image.numpy())\n",
        "plt.show()\n",
        "  "
      ],
      "id": "277fd904"
    },
    {
      "cell_type": "code",
      "execution_count": null,
      "metadata": {
        "id": "cddeb0f2"
      },
      "outputs": [],
      "source": [
        "yhat = model.predict(np.expand_dims(gray_image/255, 0))\n",
        "\n"
      ],
      "id": "cddeb0f2"
    },
    {
      "cell_type": "code",
      "execution_count": null,
      "metadata": {
        "id": "99f7a2e2"
      },
      "outputs": [],
      "source": [
        "yhat"
      ],
      "id": "99f7a2e2"
    },
    {
      "cell_type": "code",
      "execution_count": null,
      "metadata": {
        "id": "2b23788d"
      },
      "outputs": [],
      "source": [
        "new=[]\n",
        "yhat_n=np.array(new)\n",
        "yhat_n.resize(len(yhat),)\n",
        "for i in range(len(yhat)):\n",
        "    yhat_n[i]=int(np.argmax(yhat[i][:]))"
      ],
      "id": "2b23788d"
    },
    {
      "cell_type": "code",
      "execution_count": null,
      "metadata": {
        "id": "478f791c"
      },
      "outputs": [],
      "source": [
        "yhat_n[0]"
      ],
      "id": "478f791c"
    },
    {
      "cell_type": "code",
      "execution_count": null,
      "metadata": {
        "id": "2fde1f53"
      },
      "outputs": [],
      "source": [],
      "id": "2fde1f53"
    },
    {
      "cell_type": "code",
      "execution_count": null,
      "metadata": {
        "id": "d592194c"
      },
      "outputs": [],
      "source": [],
      "id": "d592194c"
    },
    {
      "cell_type": "code",
      "execution_count": null,
      "metadata": {
        "id": "2951bb82"
      },
      "outputs": [],
      "source": [
        "# Avoid OutOfMemory Error - \n",
        "# Otherwise, TF will use all the available GPU VRAM\n",
        "\n",
        "gpus = tf.config.experimental.list_physical_devices('GPU')\n",
        "for gpu in gpus:\n",
        "  tf.config.experimental.set_memory_growth(gpu, True)\n"
      ],
      "id": "2951bb82"
    }
  ],
  "metadata": {
    "accelerator": "GPU",
    "colab": {
      "machine_shape": "hm",
      "provenance": [],
      "include_colab_link": true
    },
    "gpuClass": "premium",
    "kernelspec": {
      "display_name": "Python 3.9 (tensorflow)",
      "language": "python",
      "name": "tensorflow"
    },
    "language_info": {
      "codemirror_mode": {
        "name": "ipython",
        "version": 3
      },
      "file_extension": ".py",
      "mimetype": "text/x-python",
      "name": "python",
      "nbconvert_exporter": "python",
      "pygments_lexer": "ipython3",
      "version": "3.9.13"
    }
  },
  "nbformat": 4,
  "nbformat_minor": 5
}